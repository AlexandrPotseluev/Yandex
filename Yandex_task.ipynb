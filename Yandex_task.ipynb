{
 "cells": [
  {
   "cell_type": "markdown",
   "id": "fa7e7a57",
   "metadata": {},
   "source": [
    "A. Задача трека \"Алгоритм\" - НольОдин: Сравните два числа в двоичной системе счисления. Числа представлены последовательностью слов без пробелов, обозначающих цифры (0 — zero, 1 — one). Числа не содержат лидирующих нулей."
   ]
  },
  {
   "cell_type": "code",
   "execution_count": 1,
   "id": "545971f7",
   "metadata": {},
   "outputs": [
    {
     "name": "stdout",
     "output_type": "stream",
     "text": [
      "oneone\n",
      "onezerozero\n",
      "<\n"
     ]
    }
   ],
   "source": [
    "s1 = str(input())\n",
    "s2 = str(input())\n",
    "\n",
    "def str_to_dig(s):\n",
    "    Dict = ['zero', 'one']\n",
    "    \n",
    "    for idx, word in enumerate(Dict):\n",
    "        s = s.replace(word, f'{idx}')\n",
    "        \n",
    "    return int(s, 2)\n",
    "    \n",
    "if str_to_dig(s1) > str_to_dig(s2):\n",
    "    print(chr(62))\n",
    "elif str_to_dig(s1) < str_to_dig(s2):\n",
    "    print(chr(60))\n",
    "else:\n",
    "    print(chr(61))"
   ]
  },
  {
   "cell_type": "markdown",
   "id": "e617b733",
   "metadata": {},
   "source": [
    "B. Задача трека \"Бэкенд\" - Шашки: Чтобы избежать ошибок, разработчики решили написать программу, которая будет по текущей позиции определять, можно ли сходить так, чтобы срубить шашку противника. В единственной строке выведите \"Yes\", если автор хода может срубить шашку соперника, и \"No\" в противоположном случае."
   ]
  },
  {
   "cell_type": "code",
   "execution_count": 178,
   "id": "a346e2c8",
   "metadata": {
    "scrolled": false
   },
   "outputs": [
    {
     "name": "stdout",
     "output_type": "stream",
     "text": [
      "8 8\n",
      "2\n",
      "2 2\n",
      "3 3\n",
      "2\n",
      "7 7\n",
      "8 8\n",
      "black\n",
      "No\n"
     ]
    }
   ],
   "source": [
    "# Размер поля NxM\n",
    "N, M = map(int, input().split(' '))\n",
    "\n",
    "# Инициализация словаря для координат шашек и обхода каждой из них\n",
    "checkers = {}\n",
    "d = {'white':{}, 'black':{}}\n",
    "\n",
    "# Ввод координат шашек и клеток вокруг в словари\n",
    "colors = ['white', 'black']\n",
    "\n",
    "for color in colors:\n",
    "    w = int(input())\n",
    "    \n",
    "    x = []\n",
    "    y = []    \n",
    "    \n",
    "    x_minus = []\n",
    "    x_plus = []\n",
    "    \n",
    "    y_minus = []\n",
    "    y_plus = []\n",
    "    \n",
    "    for i,j in enumerate(range(w)):\n",
    "        i, j = map(int, input().split(' '))\n",
    "        \n",
    "        x.append(i)\n",
    "        y.append(j)\n",
    "        \n",
    "        x_minus.append(i-1)\n",
    "        x_plus.append(i+1)\n",
    "        \n",
    "        y_minus.append(j-1)\n",
    "        y_plus.append(j+1)\n",
    "        \n",
    "# заполнение словаря координатами для шашек конкретного цвета    \n",
    "    checkers[color] = list(zip(x,y))\n",
    "    \n",
    "# заполнение словарей обхода координат \n",
    "    d[color]['point1'] = list(zip(x_minus,y_minus))\n",
    "    d[color]['point2'] = list(zip(x_minus,y_plus))\n",
    "    d[color]['point3'] = list(zip(x_plus,y_plus))\n",
    "    d[color]['point4'] = list(zip(x_plus,y_minus))\n",
    "   \n",
    "    move = {'point1': [-1,-1],\n",
    "            'point2': [-1,1],\n",
    "            'point3': [1,1],\n",
    "            'point4': [1,-1]}\n",
    "\n",
    "# Ввод какой цвет атакует, а кто ждет\n",
    "\n",
    "attack = str(input())\n",
    "enemy = colors[colors[0] == attack]\n",
    "\n",
    "# Алгоритм поиска возможности атаки\n",
    "\n",
    "end = 'No'\n",
    "\n",
    "for point in d[attack]:    \n",
    "# Исключаем из поиска врага крайние точки по (x,y),так как их невозможно атаковать\n",
    "    limit1 = [i for i in list([*checkers[enemy]]) if 1< i[0]< N and 1< i[1]< M]\n",
    "\n",
    "# Узнаем есть ли рядом враг, которого можно было бы атаковать\n",
    "    check1 = ( set(d[attack][point]) & set(limit1) )\n",
    "    \n",
    "#Если враг рядом, проверяем занято ли поле за ним\n",
    "    if len(check1) != 0:\n",
    "        next_step = [(i[0]+move[point][0],i[1]+move[point][1]) for i in check1]\n",
    "        check2 = set(next_step) - set(checkers[attack]) - set(checkers[enemy])\n",
    "        \n",
    "        if len(check2) != 0:\n",
    "            end = 'Yes'\n",
    "            \n",
    "            break\n",
    "\n",
    "print(end)\n"
   ]
  },
  {
   "cell_type": "code",
   "execution_count": null,
   "id": "0294772a",
   "metadata": {},
   "outputs": [],
   "source": []
  }
 ],
 "metadata": {
  "kernelspec": {
   "display_name": "Python 3 (ipykernel)",
   "language": "python",
   "name": "python3"
  },
  "language_info": {
   "codemirror_mode": {
    "name": "ipython",
    "version": 3
   },
   "file_extension": ".py",
   "mimetype": "text/x-python",
   "name": "python",
   "nbconvert_exporter": "python",
   "pygments_lexer": "ipython3",
   "version": "3.9.13"
  }
 },
 "nbformat": 4,
 "nbformat_minor": 5
}
